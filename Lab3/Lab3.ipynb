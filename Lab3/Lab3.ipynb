{
 "cells": [
  {
   "cell_type": "markdown",
   "metadata": {},
   "source": [
    "<h3><center>Due Date: November 05, 2021 <br/>TA: Júlio Oliva Frigério (juliojof@stanford.edu)</center></h3> "
   ]
  },
  {
   "cell_type": "markdown",
   "metadata": {},
   "source": [
    "<h1><center>Lab 3: Normal move-out, multiples, and velocity analysis (Python version)</center></h1>"
   ]
  },
  {
   "cell_type": "markdown",
   "metadata": {},
   "source": [
    "<h3><center><em>Your Name Here<em/></center></h3> "
   ]
  },
  {
   "cell_type": "code",
   "execution_count": 1,
   "metadata": {},
   "outputs": [
    {
     "name": "stdout",
     "output_type": "stream",
     "text": [
      "Collecting sep-Plot@ git+http://zapad.stanford.edu/bob/pySepPlot.git@fe0395fd514f6aac60b1c696c0ee99ca42c3ad89\n",
      "  Cloning http://zapad.stanford.edu/bob/pySepPlot.git (to revision fe0395fd514f6aac60b1c696c0ee99ca42c3ad89) to c:\\users\\minjun\\appdata\\local\\temp\\pip-install-g241628a\\sep-plot_c38ce63d38554aa1999520559341f76c\n",
      "  Resolved http://zapad.stanford.edu/bob/pySepPlot.git to commit fe0395fd514f6aac60b1c696c0ee99ca42c3ad89\n",
      "  Installing build dependencies: started\n",
      "  Installing build dependencies: finished with status 'done'\n",
      "  Getting requirements to build wheel: started\n",
      "  Getting requirements to build wheel: finished with status 'done'\n",
      "  Preparing metadata (pyproject.toml): started\n",
      "  Preparing metadata (pyproject.toml): finished with status 'done'\n",
      "Collecting sep_python@ git+http://zapad.stanford.edu/bob/sep-python.git@3acfc8d34eb2a383ec5132397c7cf2d07263942b\n",
      "  Cloning http://zapad.stanford.edu/bob/sep-python.git (to revision 3acfc8d34eb2a383ec5132397c7cf2d07263942b) to c:\\users\\minjun\\appdata\\local\\temp\\pip-install-g241628a\\sep-python_b9a5bdb5471a47f2badff3bce6d28036\n",
      "  Resolved http://zapad.stanford.edu/bob/sep-python.git to commit 3acfc8d34eb2a383ec5132397c7cf2d07263942b\n",
      "  Installing build dependencies: started\n",
      "  Installing build dependencies: finished with status 'done'\n",
      "  Getting requirements to build wheel: started\n",
      "  Getting requirements to build wheel: finished with status 'done'\n",
      "  Preparing metadata (pyproject.toml): started\n",
      "  Preparing metadata (pyproject.toml): finished with status 'done'\n",
      "Collecting holoviews>=1.14.1\n",
      "  Downloading holoviews-1.18.1-py2.py3-none-any.whl (4.3 MB)\n",
      "     ---------------------------------------- 4.3/4.3 MB 3.9 MB/s eta 0:00:00\n",
      "Collecting pandas>=0.20.0\n",
      "  Downloading pandas-2.2.0-cp39-cp39-win_amd64.whl (11.6 MB)\n",
      "     ---------------------------------------- 11.6/11.6 MB 4.7 MB/s eta 0:00:00\n",
      "Collecting panel>=1.0\n",
      "  Downloading panel-1.3.8-py2.py3-none-any.whl (20.8 MB)\n",
      "     --------------------------------------- 20.8/20.8 MB 10.1 MB/s eta 0:00:00\n",
      "Collecting pyviz-comms>=0.7.4\n",
      "  Downloading pyviz_comms-3.0.1-py3-none-any.whl (82 kB)\n",
      "     ---------------------------------------- 82.8/82.8 KB ? eta 0:00:00\n",
      "Collecting param<3.0,>=1.12.0\n",
      "  Downloading param-2.0.2-py3-none-any.whl (113 kB)\n",
      "     -------------------------------------- 113.6/113.6 KB 6.5 MB/s eta 0:00:00\n",
      "Collecting numpy>=1.0\n",
      "  Downloading numpy-1.26.3-cp39-cp39-win_amd64.whl (15.8 MB)\n",
      "     --------------------------------------- 15.8/15.8 MB 12.8 MB/s eta 0:00:00\n",
      "Collecting colorcet\n",
      "  Downloading colorcet-3.0.1-py2.py3-none-any.whl (1.7 MB)\n",
      "     ---------------------------------------- 1.7/1.7 MB 17.5 MB/s eta 0:00:00\n",
      "Collecting packaging\n",
      "  Using cached packaging-23.2-py3-none-any.whl (53 kB)\n",
      "Collecting genericSolver@ git+http://zapad.stanford.edu/bob/python-solver.git@c19f2f0a69fe222ec5cc3e68005a4368ad10b62c\n",
      "  Cloning http://zapad.stanford.edu/bob/python-solver.git (to revision c19f2f0a69fe222ec5cc3e68005a4368ad10b62c) to c:\\users\\minjun\\appdata\\local\\temp\\pip-install-g241628a\\genericsolver_46afe9970fd34bb8b83beafdfce83f83\n",
      "  Resolved http://zapad.stanford.edu/bob/python-solver.git to commit c19f2f0a69fe222ec5cc3e68005a4368ad10b62c\n",
      "  Installing build dependencies: started\n",
      "  Installing build dependencies: finished with status 'done'\n",
      "  Getting requirements to build wheel: started\n",
      "  Getting requirements to build wheel: finished with status 'done'\n",
      "  Preparing metadata (pyproject.toml): started\n",
      "  Preparing metadata (pyproject.toml): finished with status 'done'\n",
      "Collecting google-cloud-storage>=1.34.0\n",
      "  Downloading google_cloud_storage-2.14.0-py2.py3-none-any.whl (121 kB)\n",
      "     -------------------------------------- 121.6/121.6 KB 1.4 MB/s eta 0:00:00\n",
      "Collecting numba>=0.52\n",
      "  Downloading numba-0.58.1-cp39-cp39-win_amd64.whl (2.6 MB)\n",
      "     ---------------------------------------- 2.6/2.6 MB 11.1 MB/s eta 0:00:00\n",
      "Collecting google-api-core!=2.0.*,!=2.1.*,!=2.2.*,!=2.3.0,<3.0.0dev,>=1.31.5\n",
      "  Downloading google_api_core-2.15.0-py3-none-any.whl (121 kB)\n",
      "     -------------------------------------- 122.0/122.0 KB 7.4 MB/s eta 0:00:00\n",
      "Collecting google-resumable-media>=2.6.0\n",
      "  Downloading google_resumable_media-2.7.0-py2.py3-none-any.whl (80 kB)\n",
      "     ---------------------------------------- 80.6/80.6 KB ? eta 0:00:00\n",
      "Collecting requests<3.0.0dev,>=2.18.0\n",
      "  Using cached requests-2.31.0-py3-none-any.whl (62 kB)\n",
      "Collecting google-crc32c<2.0dev,>=1.0\n",
      "  Downloading google_crc32c-1.5.0-cp39-cp39-win_amd64.whl (27 kB)\n",
      "Collecting google-auth<3.0dev,>=2.23.3\n",
      "  Downloading google_auth-2.27.0-py2.py3-none-any.whl (186 kB)\n",
      "     ------------------------------------- 186.8/186.8 KB 11.0 MB/s eta 0:00:00\n",
      "Collecting google-cloud-core<3.0dev,>=2.3.0\n",
      "  Downloading google_cloud_core-2.4.1-py2.py3-none-any.whl (29 kB)\n",
      "Collecting llvmlite<0.42,>=0.41.0dev0\n",
      "  Downloading llvmlite-0.41.1-cp39-cp39-win_amd64.whl (28.1 MB)\n",
      "     --------------------------------------- 28.1/28.1 MB 12.8 MB/s eta 0:00:00\n",
      "Collecting python-dateutil>=2.8.2\n",
      "  Using cached python_dateutil-2.8.2-py2.py3-none-any.whl (247 kB)\n",
      "Collecting tzdata>=2022.7\n",
      "  Downloading tzdata-2023.4-py2.py3-none-any.whl (346 kB)\n",
      "     ------------------------------------- 346.6/346.6 KB 21.0 MB/s eta 0:00:00\n",
      "Collecting pytz>=2020.1\n",
      "  Using cached pytz-2023.3.post1-py2.py3-none-any.whl (502 kB)\n",
      "Collecting bokeh<3.4.0,>=3.2.0\n",
      "  Downloading bokeh-3.3.3-py3-none-any.whl (6.8 MB)\n",
      "     ---------------------------------------- 6.8/6.8 MB 14.1 MB/s eta 0:00:00\n",
      "Collecting bleach\n",
      "  Downloading bleach-6.1.0-py3-none-any.whl (162 kB)\n",
      "     -------------------------------------- 162.8/162.8 KB 9.5 MB/s eta 0:00:00\n",
      "Collecting typing-extensions\n",
      "  Downloading typing_extensions-4.9.0-py3-none-any.whl (32 kB)\n",
      "Collecting xyzservices>=2021.09.1\n",
      "  Downloading xyzservices-2023.10.1-py3-none-any.whl (56 kB)\n",
      "     ---------------------------------------- 56.3/56.3 KB ? eta 0:00:00\n",
      "Collecting linkify-it-py\n",
      "  Downloading linkify_it_py-2.0.2-py3-none-any.whl (19 kB)\n",
      "Collecting markdown-it-py\n",
      "  Using cached markdown_it_py-3.0.0-py3-none-any.whl (87 kB)\n",
      "Collecting markdown\n",
      "  Downloading Markdown-3.5.2-py3-none-any.whl (103 kB)\n",
      "     ------------------------------------ 103.9/103.9 KB 749.0 kB/s eta 0:00:00\n",
      "Collecting tqdm>=4.48.0\n",
      "  Using cached tqdm-4.66.1-py3-none-any.whl (78 kB)\n",
      "Collecting mdit-py-plugins\n",
      "  Downloading mdit_py_plugins-0.4.0-py3-none-any.whl (54 kB)\n",
      "     ---------------------------------------- 54.1/54.1 KB ? eta 0:00:00\n",
      "Collecting pyct>=0.4.4\n",
      "  Downloading pyct-0.5.0-py2.py3-none-any.whl (15 kB)\n",
      "Collecting matplotlib>=3.3.4\n",
      "  Using cached matplotlib-3.8.2-cp39-cp39-win_amd64.whl (7.6 MB)\n",
      "Collecting h5py>=2.10.0\n",
      "  Using cached h5py-3.10.0-cp39-cp39-win_amd64.whl (2.7 MB)\n",
      "Collecting pylops>=2.0.0\n",
      "  Downloading pylops-2.2.0-py3-none-any.whl (287 kB)\n",
      "     ------------------------------------- 287.7/287.7 KB 17.3 MB/s eta 0:00:00\n",
      "Collecting scipy>=1.4.2\n",
      "  Downloading scipy-1.12.0-cp39-cp39-win_amd64.whl (46.2 MB)\n",
      "     --------------------------------------- 46.2/46.2 MB 16.0 MB/s eta 0:00:00\n",
      "Collecting tornado>=5.1\n",
      "  Downloading tornado-6.4-cp38-abi3-win_amd64.whl (436 kB)\n",
      "     ------------------------------------- 437.0/437.0 KB 26.7 MB/s eta 0:00:00\n",
      "Collecting Jinja2>=2.9\n",
      "  Downloading Jinja2-3.1.3-py3-none-any.whl (133 kB)\n",
      "     ---------------------------------------- 133.2/133.2 KB ? eta 0:00:00\n",
      "Collecting PyYAML>=3.10\n",
      "  Using cached PyYAML-6.0.1-cp39-cp39-win_amd64.whl (152 kB)\n",
      "Collecting contourpy>=1\n",
      "  Using cached contourpy-1.2.0-cp39-cp39-win_amd64.whl (181 kB)\n",
      "Collecting pillow>=7.1.0\n",
      "  Downloading pillow-10.2.0-cp39-cp39-win_amd64.whl (2.6 MB)\n",
      "     ---------------------------------------- 2.6/2.6 MB 18.7 MB/s eta 0:00:00\n",
      "Collecting protobuf!=3.20.0,!=3.20.1,!=4.21.0,!=4.21.1,!=4.21.2,!=4.21.3,!=4.21.4,!=4.21.5,<5.0.0.dev0,>=3.19.5\n",
      "  Downloading protobuf-4.25.2-cp39-cp39-win_amd64.whl (413 kB)\n",
      "     ------------------------------------- 413.4/413.4 KB 12.6 MB/s eta 0:00:00\n",
      "Collecting googleapis-common-protos<2.0.dev0,>=1.56.2\n",
      "  Downloading googleapis_common_protos-1.62.0-py2.py3-none-any.whl (228 kB)\n",
      "     ------------------------------------- 228.7/228.7 KB 13.7 MB/s eta 0:00:00\n",
      "Collecting pyasn1-modules>=0.2.1\n",
      "  Using cached pyasn1_modules-0.3.0-py2.py3-none-any.whl (181 kB)\n",
      "Collecting cachetools<6.0,>=2.0.0\n",
      "  Using cached cachetools-5.3.2-py3-none-any.whl (9.3 kB)\n",
      "Collecting rsa<5,>=3.1.4\n",
      "  Downloading rsa-4.9-py3-none-any.whl (34 kB)\n",
      "Collecting kiwisolver>=1.3.1\n",
      "  Using cached kiwisolver-1.4.5-cp39-cp39-win_amd64.whl (56 kB)\n",
      "Collecting importlib-resources>=3.2.0\n",
      "  Using cached importlib_resources-6.1.1-py3-none-any.whl (33 kB)\n",
      "Collecting pyparsing>=2.3.1\n",
      "  Using cached pyparsing-3.1.1-py3-none-any.whl (103 kB)\n",
      "Collecting fonttools>=4.22.0\n",
      "  Using cached fonttools-4.47.2-cp39-cp39-win_amd64.whl (2.2 MB)\n",
      "Collecting cycler>=0.10\n",
      "  Using cached cycler-0.12.1-py3-none-any.whl (8.3 kB)\n",
      "Collecting six>=1.5\n",
      "  Using cached six-1.16.0-py2.py3-none-any.whl (11 kB)\n",
      "Collecting idna<4,>=2.5\n",
      "  Downloading idna-3.6-py3-none-any.whl (61 kB)\n",
      "     ---------------------------------------- 61.6/61.6 KB ? eta 0:00:00\n",
      "Collecting urllib3<3,>=1.21.1\n",
      "  Downloading urllib3-2.1.0-py3-none-any.whl (104 kB)\n",
      "     ---------------------------------------- 104.6/104.6 KB ? eta 0:00:00\n",
      "Collecting certifi>=2017.4.17\n",
      "  Downloading certifi-2023.11.17-py3-none-any.whl (162 kB)\n",
      "     ---------------------------------------- 162.5/162.5 KB ? eta 0:00:00\n",
      "Collecting charset-normalizer<4,>=2\n",
      "  Using cached charset_normalizer-3.3.2-cp39-cp39-win_amd64.whl (100 kB)\n",
      "Collecting colorama\n",
      "  Using cached colorama-0.4.6-py2.py3-none-any.whl (25 kB)\n",
      "Collecting webencodings\n",
      "  Using cached webencodings-0.5.1-py2.py3-none-any.whl (11 kB)\n",
      "Collecting uc-micro-py\n",
      "  Downloading uc_micro_py-1.0.2-py3-none-any.whl (6.2 kB)\n",
      "Collecting importlib-metadata>=4.4\n",
      "  Downloading importlib_metadata-7.0.1-py3-none-any.whl (23 kB)\n",
      "Collecting mdurl~=0.1\n",
      "  Using cached mdurl-0.1.2-py3-none-any.whl (10.0 kB)\n",
      "Collecting zipp>=0.5\n",
      "  Using cached zipp-3.17.0-py3-none-any.whl (7.4 kB)\n",
      "Collecting MarkupSafe>=2.0\n",
      "  Downloading MarkupSafe-2.1.4-cp39-cp39-win_amd64.whl (17 kB)\n",
      "Collecting pyasn1<0.6.0,>=0.4.6\n",
      "  Downloading pyasn1-0.5.1-py2.py3-none-any.whl (84 kB)\n",
      "     ---------------------------------------- 84.9/84.9 KB 5.0 MB/s eta 0:00:00\n",
      "Building wheels for collected packages: sep-Plot, sep_python, genericSolver\n",
      "  Building wheel for sep-Plot (pyproject.toml): started\n",
      "  Building wheel for sep-Plot (pyproject.toml): finished with status 'done'\n",
      "  Created wheel for sep-Plot: filename=sep_plot-0.9.41-py2.py3-none-any.whl size=38341 sha256=bdcdbcdd0366b1551f78d0c2e748ab4d9b5509ca9ba5cf3ee468b87d64f682be\n",
      "  Stored in directory: c:\\users\\minjun\\appdata\\local\\pip\\cache\\wheels\\f3\\73\\db\\46b605fb4f589069f5addc122b70099f41de9d0f73dd07b70f\n",
      "  Building wheel for sep_python (pyproject.toml): started\n",
      "  Building wheel for sep_python (pyproject.toml): finished with status 'done'\n",
      "  Created wheel for sep_python: filename=sep_python-0.9.41-py2.py3-none-any.whl size=23136 sha256=e3dba15b060de95e71cef8402b2cb16ba0632c7ff3e1605e6dae3521cd748700\n",
      "  Stored in directory: c:\\users\\minjun\\appdata\\local\\pip\\cache\\wheels\\b7\\15\\2f\\076de0fb6d5c62fb1380b35e34597c2f1745959ba04561b985\n",
      "  Building wheel for genericSolver (pyproject.toml): started\n",
      "  Building wheel for genericSolver (pyproject.toml): finished with status 'done'\n",
      "  Created wheel for genericSolver: filename=genericsolver-1.0-py2.py3-none-any.whl size=115938 sha256=aca936142c6832341a739729c4fe5da44154e6c68dbe1b692de54ef9616481dd\n",
      "  Stored in directory: c:\\users\\minjun\\appdata\\local\\pip\\cache\\wheels\\b6\\19\\a2\\2ebd41a62611217023ef4fb08a53bf9845c8dcc49c6d04fc0d\n",
      "Successfully built sep-Plot sep_python genericSolver\n",
      "Installing collected packages: webencodings, pytz, zipp, xyzservices, urllib3, uc-micro-py, tzdata, typing-extensions, tornado, six, PyYAML, pyparsing, pyasn1, protobuf, pillow, param, packaging, numpy, mdurl, MarkupSafe, llvmlite, kiwisolver, idna, google-crc32c, fonttools, cycler, colorama, charset-normalizer, certifi, cachetools, tqdm, scipy, rsa, requests, pyviz-comms, python-dateutil, pyct, pyasn1-modules, numba, markdown-it-py, linkify-it-py, Jinja2, importlib-resources, importlib-metadata, h5py, googleapis-common-protos, google-resumable-media, contourpy, bleach, pylops, pandas, mdit-py-plugins, matplotlib, markdown, google-auth, colorcet, google-api-core, genericSolver, bokeh, panel, google-cloud-core, holoviews, google-cloud-storage, sep_python, sep-Plot\n",
      "Successfully installed Jinja2-3.1.3 MarkupSafe-2.1.4 PyYAML-6.0.1 bleach-6.1.0 bokeh-3.3.3 cachetools-5.3.2 certifi-2023.11.17 charset-normalizer-3.3.2 colorama-0.4.6 colorcet-3.0.1 contourpy-1.2.0 cycler-0.12.1 fonttools-4.47.2 genericSolver-1.0 google-api-core-2.15.0 google-auth-2.27.0 google-cloud-core-2.4.1 google-cloud-storage-2.14.0 google-crc32c-1.5.0 google-resumable-media-2.7.0 googleapis-common-protos-1.62.0 h5py-3.10.0 holoviews-1.18.1 idna-3.6 importlib-metadata-7.0.1 importlib-resources-6.1.1 kiwisolver-1.4.5 linkify-it-py-2.0.2 llvmlite-0.41.1 markdown-3.5.2 markdown-it-py-3.0.0 matplotlib-3.8.2 mdit-py-plugins-0.4.0 mdurl-0.1.2 numba-0.58.1 numpy-1.26.3 packaging-23.2 pandas-2.2.0 panel-1.3.8 param-2.0.2 pillow-10.2.0 protobuf-4.25.2 pyasn1-0.5.1 pyasn1-modules-0.3.0 pyct-0.5.0 pylops-2.2.0 pyparsing-3.1.1 python-dateutil-2.8.2 pytz-2023.3.post1 pyviz-comms-3.0.1 requests-2.31.0 rsa-4.9 scipy-1.12.0 sep-Plot-0.9.41 sep_python-0.9.41 six-1.16.0 tornado-6.4 tqdm-4.66.1 typing-extensions-4.9.0 tzdata-2023.4 uc-micro-py-1.0.2 urllib3-2.1.0 webencodings-0.5.1 xyzservices-2023.10.1 zipp-3.17.0\n"
     ]
    },
    {
     "name": "stderr",
     "output_type": "stream",
     "text": [
      "  Running command git clone --filter=blob:none --quiet http://zapad.stanford.edu/bob/pySepPlot.git 'C:\\Users\\minjun\\AppData\\Local\\Temp\\pip-install-g241628a\\sep-plot_c38ce63d38554aa1999520559341f76c'\n",
      "  warning: redirecting to https://zapad.stanford.edu/bob/pySepPlot.git/\n",
      "  Running command git rev-parse -q --verify 'sha^fe0395fd514f6aac60b1c696c0ee99ca42c3ad89'\n",
      "  Running command git fetch -q http://zapad.stanford.edu/bob/pySepPlot.git fe0395fd514f6aac60b1c696c0ee99ca42c3ad89\n",
      "  Running command git checkout -q fe0395fd514f6aac60b1c696c0ee99ca42c3ad89\n",
      "  warning: redirecting to https://zapad.stanford.edu/bob/pySepPlot.git/\n",
      "  Running command git clone --filter=blob:none --quiet http://zapad.stanford.edu/bob/sep-python.git 'C:\\Users\\minjun\\AppData\\Local\\Temp\\pip-install-g241628a\\sep-python_b9a5bdb5471a47f2badff3bce6d28036'\n",
      "  warning: redirecting to https://zapad.stanford.edu/bob/sep-python.git/\n",
      "  Running command git rev-parse -q --verify 'sha^3acfc8d34eb2a383ec5132397c7cf2d07263942b'\n",
      "  Running command git fetch -q http://zapad.stanford.edu/bob/sep-python.git 3acfc8d34eb2a383ec5132397c7cf2d07263942b\n",
      "  Running command git checkout -q 3acfc8d34eb2a383ec5132397c7cf2d07263942b\n",
      "  warning: redirecting to https://zapad.stanford.edu/bob/sep-python.git/\n",
      "  Running command git submodule update --init --recursive -q\n",
      "  Running command git clone --filter=blob:none --quiet http://zapad.stanford.edu/bob/python-solver.git 'C:\\Users\\minjun\\AppData\\Local\\Temp\\pip-install-g241628a\\genericsolver_46afe9970fd34bb8b83beafdfce83f83'\n",
      "  warning: redirecting to https://zapad.stanford.edu/bob/python-solver.git/\n",
      "  Running command git rev-parse -q --verify 'sha^c19f2f0a69fe222ec5cc3e68005a4368ad10b62c'\n",
      "  Running command git fetch -q http://zapad.stanford.edu/bob/python-solver.git c19f2f0a69fe222ec5cc3e68005a4368ad10b62c\n",
      "  Running command git checkout -q c19f2f0a69fe222ec5cc3e68005a4368ad10b62c\n",
      "  warning: redirecting to https://zapad.stanford.edu/bob/python-solver.git/\n",
      "  WARNING: The script f2py.exe is installed in 'C:\\Users\\minjun\\AppData\\Local\\Packages\\PythonSoftwareFoundation.Python.3.9_qbz5n2kfra8p0\\LocalCache\\local-packages\\Python39\\Scripts' which is not on PATH.\n",
      "  Consider adding this directory to PATH or, if you prefer to suppress this warning, use --no-warn-script-location.\n",
      "  WARNING: The scripts fonttools.exe, pyftmerge.exe, pyftsubset.exe and ttx.exe are installed in 'C:\\Users\\minjun\\AppData\\Local\\Packages\\PythonSoftwareFoundation.Python.3.9_qbz5n2kfra8p0\\LocalCache\\local-packages\\Python39\\Scripts' which is not on PATH.\n",
      "  Consider adding this directory to PATH or, if you prefer to suppress this warning, use --no-warn-script-location.\n",
      "  WARNING: The script normalizer.exe is installed in 'C:\\Users\\minjun\\AppData\\Local\\Packages\\PythonSoftwareFoundation.Python.3.9_qbz5n2kfra8p0\\LocalCache\\local-packages\\Python39\\Scripts' which is not on PATH.\n",
      "  Consider adding this directory to PATH or, if you prefer to suppress this warning, use --no-warn-script-location.\n",
      "  WARNING: The script tqdm.exe is installed in 'C:\\Users\\minjun\\AppData\\Local\\Packages\\PythonSoftwareFoundation.Python.3.9_qbz5n2kfra8p0\\LocalCache\\local-packages\\Python39\\Scripts' which is not on PATH.\n",
      "  Consider adding this directory to PATH or, if you prefer to suppress this warning, use --no-warn-script-location.\n",
      "  WARNING: The scripts pyrsa-decrypt.exe, pyrsa-encrypt.exe, pyrsa-keygen.exe, pyrsa-priv2pub.exe, pyrsa-sign.exe and pyrsa-verify.exe are installed in 'C:\\Users\\minjun\\AppData\\Local\\Packages\\PythonSoftwareFoundation.Python.3.9_qbz5n2kfra8p0\\LocalCache\\local-packages\\Python39\\Scripts' which is not on PATH.\n",
      "  Consider adding this directory to PATH or, if you prefer to suppress this warning, use --no-warn-script-location.\n",
      "  WARNING: The script pyct.exe is installed in 'C:\\Users\\minjun\\AppData\\Local\\Packages\\PythonSoftwareFoundation.Python.3.9_qbz5n2kfra8p0\\LocalCache\\local-packages\\Python39\\Scripts' which is not on PATH.\n",
      "  Consider adding this directory to PATH or, if you prefer to suppress this warning, use --no-warn-script-location.\n",
      "  WARNING: The script markdown-it.exe is installed in 'C:\\Users\\minjun\\AppData\\Local\\Packages\\PythonSoftwareFoundation.Python.3.9_qbz5n2kfra8p0\\LocalCache\\local-packages\\Python39\\Scripts' which is not on PATH.\n",
      "  Consider adding this directory to PATH or, if you prefer to suppress this warning, use --no-warn-script-location.\n",
      "  WARNING: The script markdown_py.exe is installed in 'C:\\Users\\minjun\\AppData\\Local\\Packages\\PythonSoftwareFoundation.Python.3.9_qbz5n2kfra8p0\\LocalCache\\local-packages\\Python39\\Scripts' which is not on PATH.\n",
      "  Consider adding this directory to PATH or, if you prefer to suppress this warning, use --no-warn-script-location.\n",
      "  WARNING: The script colorcet.exe is installed in 'C:\\Users\\minjun\\AppData\\Local\\Packages\\PythonSoftwareFoundation.Python.3.9_qbz5n2kfra8p0\\LocalCache\\local-packages\\Python39\\Scripts' which is not on PATH.\n",
      "  Consider adding this directory to PATH or, if you prefer to suppress this warning, use --no-warn-script-location.\n",
      "  WARNING: The script bokeh.exe is installed in 'C:\\Users\\minjun\\AppData\\Local\\Packages\\PythonSoftwareFoundation.Python.3.9_qbz5n2kfra8p0\\LocalCache\\local-packages\\Python39\\Scripts' which is not on PATH.\n",
      "  Consider adding this directory to PATH or, if you prefer to suppress this warning, use --no-warn-script-location.\n",
      "  WARNING: The script panel.exe is installed in 'C:\\Users\\minjun\\AppData\\Local\\Packages\\PythonSoftwareFoundation.Python.3.9_qbz5n2kfra8p0\\LocalCache\\local-packages\\Python39\\Scripts' which is not on PATH.\n",
      "  Consider adding this directory to PATH or, if you prefer to suppress this warning, use --no-warn-script-location.\n",
      "  WARNING: The script holoviews.exe is installed in 'C:\\Users\\minjun\\AppData\\Local\\Packages\\PythonSoftwareFoundation.Python.3.9_qbz5n2kfra8p0\\LocalCache\\local-packages\\Python39\\Scripts' which is not on PATH.\n",
      "  Consider adding this directory to PATH or, if you prefer to suppress this warning, use --no-warn-script-location.\n",
      "WARNING: You are using pip version 22.0.4; however, version 23.3.2 is available.\n",
      "You should consider upgrading via the 'C:\\Users\\minjun\\AppData\\Local\\Microsoft\\WindowsApps\\PythonSoftwareFoundation.Python.3.9_qbz5n2kfra8p0\\python.exe -m pip install --upgrade pip' command.\n"
     ]
    }
   ],
   "source": [
    "!python3 -m pip install \"sep-Plot @ git+http://zapad.stanford.edu/bob/pySepPlot.git@fe0395fd514f6aac60b1c696c0ee99ca42c3ad89\""
   ]
  },
  {
   "cell_type": "code",
   "execution_count": 1,
   "metadata": {},
   "outputs": [
    {
     "ename": "ModuleNotFoundError",
     "evalue": "No module named 'matplotlib'",
     "output_type": "error",
     "traceback": [
      "\u001b[1;31m---------------------------------------------------------------------------\u001b[0m",
      "\u001b[1;31mModuleNotFoundError\u001b[0m                       Traceback (most recent call last)",
      "Cell \u001b[1;32mIn[1], line 1\u001b[0m\n\u001b[1;32m----> 1\u001b[0m \u001b[43mget_ipython\u001b[49m\u001b[43m(\u001b[49m\u001b[43m)\u001b[49m\u001b[38;5;241;43m.\u001b[39;49m\u001b[43mrun_line_magic\u001b[49m\u001b[43m(\u001b[49m\u001b[38;5;124;43m'\u001b[39;49m\u001b[38;5;124;43mmatplotlib\u001b[39;49m\u001b[38;5;124;43m'\u001b[39;49m\u001b[43m,\u001b[49m\u001b[43m \u001b[49m\u001b[38;5;124;43m'\u001b[39;49m\u001b[38;5;124;43minline\u001b[39;49m\u001b[38;5;124;43m'\u001b[39;49m\u001b[43m)\u001b[49m\n\u001b[0;32m      2\u001b[0m \u001b[38;5;28;01mfrom\u001b[39;00m \u001b[38;5;21;01msep_python\u001b[39;00m\u001b[38;5;21;01m.\u001b[39;00m\u001b[38;5;21;01msep_vector\u001b[39;00m \u001b[38;5;28;01mimport\u001b[39;00m FloatVector,get_sep_vector\n\u001b[0;32m      3\u001b[0m \u001b[38;5;28;01mfrom\u001b[39;00m \u001b[38;5;21;01msep_python\u001b[39;00m\u001b[38;5;21;01m.\u001b[39;00m\u001b[38;5;21;01mhypercube\u001b[39;00m \u001b[38;5;28;01mimport\u001b[39;00m Hypercube\n",
      "File \u001b[1;32m~\\AppData\\Roaming\\Python\\Python312\\site-packages\\IPython\\core\\interactiveshell.py:2432\u001b[0m, in \u001b[0;36mInteractiveShell.run_line_magic\u001b[1;34m(self, magic_name, line, _stack_depth)\u001b[0m\n\u001b[0;32m   2430\u001b[0m     kwargs[\u001b[38;5;124m'\u001b[39m\u001b[38;5;124mlocal_ns\u001b[39m\u001b[38;5;124m'\u001b[39m] \u001b[38;5;241m=\u001b[39m \u001b[38;5;28mself\u001b[39m\u001b[38;5;241m.\u001b[39mget_local_scope(stack_depth)\n\u001b[0;32m   2431\u001b[0m \u001b[38;5;28;01mwith\u001b[39;00m \u001b[38;5;28mself\u001b[39m\u001b[38;5;241m.\u001b[39mbuiltin_trap:\n\u001b[1;32m-> 2432\u001b[0m     result \u001b[38;5;241m=\u001b[39m \u001b[43mfn\u001b[49m\u001b[43m(\u001b[49m\u001b[38;5;241;43m*\u001b[39;49m\u001b[43margs\u001b[49m\u001b[43m,\u001b[49m\u001b[43m \u001b[49m\u001b[38;5;241;43m*\u001b[39;49m\u001b[38;5;241;43m*\u001b[39;49m\u001b[43mkwargs\u001b[49m\u001b[43m)\u001b[49m\n\u001b[0;32m   2434\u001b[0m \u001b[38;5;66;03m# The code below prevents the output from being displayed\u001b[39;00m\n\u001b[0;32m   2435\u001b[0m \u001b[38;5;66;03m# when using magics with decorator @output_can_be_silenced\u001b[39;00m\n\u001b[0;32m   2436\u001b[0m \u001b[38;5;66;03m# when the last Python token in the expression is a ';'.\u001b[39;00m\n\u001b[0;32m   2437\u001b[0m \u001b[38;5;28;01mif\u001b[39;00m \u001b[38;5;28mgetattr\u001b[39m(fn, magic\u001b[38;5;241m.\u001b[39mMAGIC_OUTPUT_CAN_BE_SILENCED, \u001b[38;5;28;01mFalse\u001b[39;00m):\n",
      "File \u001b[1;32m~\\AppData\\Roaming\\Python\\Python312\\site-packages\\IPython\\core\\magics\\pylab.py:99\u001b[0m, in \u001b[0;36mPylabMagics.matplotlib\u001b[1;34m(self, line)\u001b[0m\n\u001b[0;32m     97\u001b[0m     \u001b[38;5;28mprint\u001b[39m(\u001b[38;5;124m\"\u001b[39m\u001b[38;5;124mAvailable matplotlib backends: \u001b[39m\u001b[38;5;132;01m%s\u001b[39;00m\u001b[38;5;124m\"\u001b[39m \u001b[38;5;241m%\u001b[39m backends_list)\n\u001b[0;32m     98\u001b[0m \u001b[38;5;28;01melse\u001b[39;00m:\n\u001b[1;32m---> 99\u001b[0m     gui, backend \u001b[38;5;241m=\u001b[39m \u001b[38;5;28;43mself\u001b[39;49m\u001b[38;5;241;43m.\u001b[39;49m\u001b[43mshell\u001b[49m\u001b[38;5;241;43m.\u001b[39;49m\u001b[43menable_matplotlib\u001b[49m\u001b[43m(\u001b[49m\u001b[43margs\u001b[49m\u001b[38;5;241;43m.\u001b[39;49m\u001b[43mgui\u001b[49m\u001b[38;5;241;43m.\u001b[39;49m\u001b[43mlower\u001b[49m\u001b[43m(\u001b[49m\u001b[43m)\u001b[49m\u001b[43m \u001b[49m\u001b[38;5;28;43;01mif\u001b[39;49;00m\u001b[43m \u001b[49m\u001b[38;5;28;43misinstance\u001b[39;49m\u001b[43m(\u001b[49m\u001b[43margs\u001b[49m\u001b[38;5;241;43m.\u001b[39;49m\u001b[43mgui\u001b[49m\u001b[43m,\u001b[49m\u001b[43m \u001b[49m\u001b[38;5;28;43mstr\u001b[39;49m\u001b[43m)\u001b[49m\u001b[43m \u001b[49m\u001b[38;5;28;43;01melse\u001b[39;49;00m\u001b[43m \u001b[49m\u001b[43margs\u001b[49m\u001b[38;5;241;43m.\u001b[39;49m\u001b[43mgui\u001b[49m\u001b[43m)\u001b[49m\n\u001b[0;32m    100\u001b[0m     \u001b[38;5;28mself\u001b[39m\u001b[38;5;241m.\u001b[39m_show_matplotlib_backend(args\u001b[38;5;241m.\u001b[39mgui, backend)\n",
      "File \u001b[1;32m~\\AppData\\Roaming\\Python\\Python312\\site-packages\\IPython\\core\\interactiveshell.py:3606\u001b[0m, in \u001b[0;36mInteractiveShell.enable_matplotlib\u001b[1;34m(self, gui)\u001b[0m\n\u001b[0;32m   3585\u001b[0m \u001b[38;5;28;01mdef\u001b[39;00m \u001b[38;5;21menable_matplotlib\u001b[39m(\u001b[38;5;28mself\u001b[39m, gui\u001b[38;5;241m=\u001b[39m\u001b[38;5;28;01mNone\u001b[39;00m):\n\u001b[0;32m   3586\u001b[0m \u001b[38;5;250m    \u001b[39m\u001b[38;5;124;03m\"\"\"Enable interactive matplotlib and inline figure support.\u001b[39;00m\n\u001b[0;32m   3587\u001b[0m \n\u001b[0;32m   3588\u001b[0m \u001b[38;5;124;03m    This takes the following steps:\u001b[39;00m\n\u001b[1;32m   (...)\u001b[0m\n\u001b[0;32m   3604\u001b[0m \u001b[38;5;124;03m        display figures inline.\u001b[39;00m\n\u001b[0;32m   3605\u001b[0m \u001b[38;5;124;03m    \"\"\"\u001b[39;00m\n\u001b[1;32m-> 3606\u001b[0m     \u001b[38;5;28;01mfrom\u001b[39;00m \u001b[38;5;21;01mmatplotlib_inline\u001b[39;00m\u001b[38;5;21;01m.\u001b[39;00m\u001b[38;5;21;01mbackend_inline\u001b[39;00m \u001b[38;5;28;01mimport\u001b[39;00m configure_inline_support\n\u001b[0;32m   3608\u001b[0m     \u001b[38;5;28;01mfrom\u001b[39;00m \u001b[38;5;21;01mIPython\u001b[39;00m\u001b[38;5;21;01m.\u001b[39;00m\u001b[38;5;21;01mcore\u001b[39;00m \u001b[38;5;28;01mimport\u001b[39;00m pylabtools \u001b[38;5;28;01mas\u001b[39;00m pt\n\u001b[0;32m   3609\u001b[0m     gui, backend \u001b[38;5;241m=\u001b[39m pt\u001b[38;5;241m.\u001b[39mfind_gui_and_backend(gui, \u001b[38;5;28mself\u001b[39m\u001b[38;5;241m.\u001b[39mpylab_gui_select)\n",
      "File \u001b[1;32m~\\AppData\\Roaming\\Python\\Python312\\site-packages\\matplotlib_inline\\__init__.py:1\u001b[0m\n\u001b[1;32m----> 1\u001b[0m \u001b[38;5;28;01mfrom\u001b[39;00m \u001b[38;5;21;01m.\u001b[39;00m \u001b[38;5;28;01mimport\u001b[39;00m backend_inline, config  \u001b[38;5;66;03m# noqa\u001b[39;00m\n\u001b[0;32m      2\u001b[0m __version__ \u001b[38;5;241m=\u001b[39m \u001b[38;5;124m\"\u001b[39m\u001b[38;5;124m0.1.6\u001b[39m\u001b[38;5;124m\"\u001b[39m  \u001b[38;5;66;03m# noqa\u001b[39;00m\n",
      "File \u001b[1;32m~\\AppData\\Roaming\\Python\\Python312\\site-packages\\matplotlib_inline\\backend_inline.py:6\u001b[0m\n\u001b[0;32m      1\u001b[0m \u001b[38;5;124;03m\"\"\"A matplotlib backend for publishing figures via display_data\"\"\"\u001b[39;00m\n\u001b[0;32m      3\u001b[0m \u001b[38;5;66;03m# Copyright (c) IPython Development Team.\u001b[39;00m\n\u001b[0;32m      4\u001b[0m \u001b[38;5;66;03m# Distributed under the terms of the BSD 3-Clause License.\u001b[39;00m\n\u001b[1;32m----> 6\u001b[0m \u001b[38;5;28;01mimport\u001b[39;00m \u001b[38;5;21;01mmatplotlib\u001b[39;00m\n\u001b[0;32m      7\u001b[0m \u001b[38;5;28;01mfrom\u001b[39;00m \u001b[38;5;21;01mmatplotlib\u001b[39;00m \u001b[38;5;28;01mimport\u001b[39;00m colors\n\u001b[0;32m      8\u001b[0m \u001b[38;5;28;01mfrom\u001b[39;00m \u001b[38;5;21;01mmatplotlib\u001b[39;00m\u001b[38;5;21;01m.\u001b[39;00m\u001b[38;5;21;01mbackends\u001b[39;00m \u001b[38;5;28;01mimport\u001b[39;00m backend_agg\n",
      "\u001b[1;31mModuleNotFoundError\u001b[0m: No module named 'matplotlib'"
     ]
    }
   ],
   "source": [
    "%matplotlib inline\n",
    "from sep_python.sep_vector import FloatVector,get_sep_vector\n",
    "from sep_python.hypercube import Hypercube\n",
    "import sep_python.modes\n"
   ]
  },
  {
   "cell_type": "code",
   "execution_count": 2,
   "metadata": {},
   "outputs": [
    {
     "ename": "ModuleNotFoundError",
     "evalue": "No module named 'matplotlib'",
     "output_type": "error",
     "traceback": [
      "\u001b[1;31m---------------------------------------------------------------------------\u001b[0m",
      "\u001b[1;31mModuleNotFoundError\u001b[0m                       Traceback (most recent call last)",
      "Cell \u001b[1;32mIn[2], line 4\u001b[0m\n\u001b[0;32m      1\u001b[0m \u001b[38;5;66;03m#################################################################\u001b[39;00m\n\u001b[0;32m      2\u001b[0m \u001b[38;5;66;03m# This code block imports the necessary python modules needed for this lab\u001b[39;00m\n\u001b[0;32m      3\u001b[0m \u001b[38;5;66;03m#################################################################\u001b[39;00m\n\u001b[1;32m----> 4\u001b[0m \u001b[43mget_ipython\u001b[49m\u001b[43m(\u001b[49m\u001b[43m)\u001b[49m\u001b[38;5;241;43m.\u001b[39;49m\u001b[43mrun_line_magic\u001b[49m\u001b[43m(\u001b[49m\u001b[38;5;124;43m'\u001b[39;49m\u001b[38;5;124;43mmatplotlib\u001b[39;49m\u001b[38;5;124;43m'\u001b[39;49m\u001b[43m,\u001b[49m\u001b[43m \u001b[49m\u001b[38;5;124;43m'\u001b[39;49m\u001b[38;5;124;43mwidget\u001b[39;49m\u001b[38;5;124;43m'\u001b[39;49m\u001b[43m)\u001b[49m\n\u001b[0;32m      5\u001b[0m get_ipython()\u001b[38;5;241m.\u001b[39mrun_line_magic(\u001b[38;5;124m'\u001b[39m\u001b[38;5;124mload_ext\u001b[39m\u001b[38;5;124m'\u001b[39m, \u001b[38;5;124m'\u001b[39m\u001b[38;5;124mautoreload\u001b[39m\u001b[38;5;124m'\u001b[39m)\n\u001b[0;32m      6\u001b[0m get_ipython()\u001b[38;5;241m.\u001b[39mrun_line_magic(\u001b[38;5;124m'\u001b[39m\u001b[38;5;124mautoreload\u001b[39m\u001b[38;5;124m'\u001b[39m, \u001b[38;5;124m'\u001b[39m\u001b[38;5;124m2\u001b[39m\u001b[38;5;124m'\u001b[39m)\n",
      "File \u001b[1;32m~\\AppData\\Roaming\\Python\\Python312\\site-packages\\IPython\\core\\interactiveshell.py:2432\u001b[0m, in \u001b[0;36mInteractiveShell.run_line_magic\u001b[1;34m(self, magic_name, line, _stack_depth)\u001b[0m\n\u001b[0;32m   2430\u001b[0m     kwargs[\u001b[38;5;124m'\u001b[39m\u001b[38;5;124mlocal_ns\u001b[39m\u001b[38;5;124m'\u001b[39m] \u001b[38;5;241m=\u001b[39m \u001b[38;5;28mself\u001b[39m\u001b[38;5;241m.\u001b[39mget_local_scope(stack_depth)\n\u001b[0;32m   2431\u001b[0m \u001b[38;5;28;01mwith\u001b[39;00m \u001b[38;5;28mself\u001b[39m\u001b[38;5;241m.\u001b[39mbuiltin_trap:\n\u001b[1;32m-> 2432\u001b[0m     result \u001b[38;5;241m=\u001b[39m \u001b[43mfn\u001b[49m\u001b[43m(\u001b[49m\u001b[38;5;241;43m*\u001b[39;49m\u001b[43margs\u001b[49m\u001b[43m,\u001b[49m\u001b[43m \u001b[49m\u001b[38;5;241;43m*\u001b[39;49m\u001b[38;5;241;43m*\u001b[39;49m\u001b[43mkwargs\u001b[49m\u001b[43m)\u001b[49m\n\u001b[0;32m   2434\u001b[0m \u001b[38;5;66;03m# The code below prevents the output from being displayed\u001b[39;00m\n\u001b[0;32m   2435\u001b[0m \u001b[38;5;66;03m# when using magics with decorator @output_can_be_silenced\u001b[39;00m\n\u001b[0;32m   2436\u001b[0m \u001b[38;5;66;03m# when the last Python token in the expression is a ';'.\u001b[39;00m\n\u001b[0;32m   2437\u001b[0m \u001b[38;5;28;01mif\u001b[39;00m \u001b[38;5;28mgetattr\u001b[39m(fn, magic\u001b[38;5;241m.\u001b[39mMAGIC_OUTPUT_CAN_BE_SILENCED, \u001b[38;5;28;01mFalse\u001b[39;00m):\n",
      "File \u001b[1;32m~\\AppData\\Roaming\\Python\\Python312\\site-packages\\IPython\\core\\magics\\pylab.py:99\u001b[0m, in \u001b[0;36mPylabMagics.matplotlib\u001b[1;34m(self, line)\u001b[0m\n\u001b[0;32m     97\u001b[0m     \u001b[38;5;28mprint\u001b[39m(\u001b[38;5;124m\"\u001b[39m\u001b[38;5;124mAvailable matplotlib backends: \u001b[39m\u001b[38;5;132;01m%s\u001b[39;00m\u001b[38;5;124m\"\u001b[39m \u001b[38;5;241m%\u001b[39m backends_list)\n\u001b[0;32m     98\u001b[0m \u001b[38;5;28;01melse\u001b[39;00m:\n\u001b[1;32m---> 99\u001b[0m     gui, backend \u001b[38;5;241m=\u001b[39m \u001b[38;5;28;43mself\u001b[39;49m\u001b[38;5;241;43m.\u001b[39;49m\u001b[43mshell\u001b[49m\u001b[38;5;241;43m.\u001b[39;49m\u001b[43menable_matplotlib\u001b[49m\u001b[43m(\u001b[49m\u001b[43margs\u001b[49m\u001b[38;5;241;43m.\u001b[39;49m\u001b[43mgui\u001b[49m\u001b[38;5;241;43m.\u001b[39;49m\u001b[43mlower\u001b[49m\u001b[43m(\u001b[49m\u001b[43m)\u001b[49m\u001b[43m \u001b[49m\u001b[38;5;28;43;01mif\u001b[39;49;00m\u001b[43m \u001b[49m\u001b[38;5;28;43misinstance\u001b[39;49m\u001b[43m(\u001b[49m\u001b[43margs\u001b[49m\u001b[38;5;241;43m.\u001b[39;49m\u001b[43mgui\u001b[49m\u001b[43m,\u001b[49m\u001b[43m \u001b[49m\u001b[38;5;28;43mstr\u001b[39;49m\u001b[43m)\u001b[49m\u001b[43m \u001b[49m\u001b[38;5;28;43;01melse\u001b[39;49;00m\u001b[43m \u001b[49m\u001b[43margs\u001b[49m\u001b[38;5;241;43m.\u001b[39;49m\u001b[43mgui\u001b[49m\u001b[43m)\u001b[49m\n\u001b[0;32m    100\u001b[0m     \u001b[38;5;28mself\u001b[39m\u001b[38;5;241m.\u001b[39m_show_matplotlib_backend(args\u001b[38;5;241m.\u001b[39mgui, backend)\n",
      "File \u001b[1;32m~\\AppData\\Roaming\\Python\\Python312\\site-packages\\IPython\\core\\interactiveshell.py:3606\u001b[0m, in \u001b[0;36mInteractiveShell.enable_matplotlib\u001b[1;34m(self, gui)\u001b[0m\n\u001b[0;32m   3585\u001b[0m \u001b[38;5;28;01mdef\u001b[39;00m \u001b[38;5;21menable_matplotlib\u001b[39m(\u001b[38;5;28mself\u001b[39m, gui\u001b[38;5;241m=\u001b[39m\u001b[38;5;28;01mNone\u001b[39;00m):\n\u001b[0;32m   3586\u001b[0m \u001b[38;5;250m    \u001b[39m\u001b[38;5;124;03m\"\"\"Enable interactive matplotlib and inline figure support.\u001b[39;00m\n\u001b[0;32m   3587\u001b[0m \n\u001b[0;32m   3588\u001b[0m \u001b[38;5;124;03m    This takes the following steps:\u001b[39;00m\n\u001b[1;32m   (...)\u001b[0m\n\u001b[0;32m   3604\u001b[0m \u001b[38;5;124;03m        display figures inline.\u001b[39;00m\n\u001b[0;32m   3605\u001b[0m \u001b[38;5;124;03m    \"\"\"\u001b[39;00m\n\u001b[1;32m-> 3606\u001b[0m     \u001b[38;5;28;01mfrom\u001b[39;00m \u001b[38;5;21;01mmatplotlib_inline\u001b[39;00m\u001b[38;5;21;01m.\u001b[39;00m\u001b[38;5;21;01mbackend_inline\u001b[39;00m \u001b[38;5;28;01mimport\u001b[39;00m configure_inline_support\n\u001b[0;32m   3608\u001b[0m     \u001b[38;5;28;01mfrom\u001b[39;00m \u001b[38;5;21;01mIPython\u001b[39;00m\u001b[38;5;21;01m.\u001b[39;00m\u001b[38;5;21;01mcore\u001b[39;00m \u001b[38;5;28;01mimport\u001b[39;00m pylabtools \u001b[38;5;28;01mas\u001b[39;00m pt\n\u001b[0;32m   3609\u001b[0m     gui, backend \u001b[38;5;241m=\u001b[39m pt\u001b[38;5;241m.\u001b[39mfind_gui_and_backend(gui, \u001b[38;5;28mself\u001b[39m\u001b[38;5;241m.\u001b[39mpylab_gui_select)\n",
      "File \u001b[1;32m~\\AppData\\Roaming\\Python\\Python312\\site-packages\\matplotlib_inline\\__init__.py:1\u001b[0m\n\u001b[1;32m----> 1\u001b[0m \u001b[38;5;28;01mfrom\u001b[39;00m \u001b[38;5;21;01m.\u001b[39;00m \u001b[38;5;28;01mimport\u001b[39;00m backend_inline, config  \u001b[38;5;66;03m# noqa\u001b[39;00m\n\u001b[0;32m      2\u001b[0m __version__ \u001b[38;5;241m=\u001b[39m \u001b[38;5;124m\"\u001b[39m\u001b[38;5;124m0.1.6\u001b[39m\u001b[38;5;124m\"\u001b[39m  \u001b[38;5;66;03m# noqa\u001b[39;00m\n",
      "File \u001b[1;32m~\\AppData\\Roaming\\Python\\Python312\\site-packages\\matplotlib_inline\\backend_inline.py:6\u001b[0m\n\u001b[0;32m      1\u001b[0m \u001b[38;5;124;03m\"\"\"A matplotlib backend for publishing figures via display_data\"\"\"\u001b[39;00m\n\u001b[0;32m      3\u001b[0m \u001b[38;5;66;03m# Copyright (c) IPython Development Team.\u001b[39;00m\n\u001b[0;32m      4\u001b[0m \u001b[38;5;66;03m# Distributed under the terms of the BSD 3-Clause License.\u001b[39;00m\n\u001b[1;32m----> 6\u001b[0m \u001b[38;5;28;01mimport\u001b[39;00m \u001b[38;5;21;01mmatplotlib\u001b[39;00m\n\u001b[0;32m      7\u001b[0m \u001b[38;5;28;01mfrom\u001b[39;00m \u001b[38;5;21;01mmatplotlib\u001b[39;00m \u001b[38;5;28;01mimport\u001b[39;00m colors\n\u001b[0;32m      8\u001b[0m \u001b[38;5;28;01mfrom\u001b[39;00m \u001b[38;5;21;01mmatplotlib\u001b[39;00m\u001b[38;5;21;01m.\u001b[39;00m\u001b[38;5;21;01mbackends\u001b[39;00m \u001b[38;5;28;01mimport\u001b[39;00m backend_agg\n",
      "\u001b[1;31mModuleNotFoundError\u001b[0m: No module named 'matplotlib'"
     ]
    }
   ],
   "source": [
    "#################################################################\n",
    "# This code block imports the necessary python modules needed for this lab\n",
    "#################################################################\n",
    "%matplotlib widget\n",
    "%load_ext autoreload\n",
    "%autoreload 2\n",
    "import SepVector\n",
    "import Hypercube\n",
    "import numpy as np\n",
    "import genericIO\n",
    "import matplotlib.pyplot as plt\n",
    "import matplotlib.animation as animation\n",
    "import Grey as Grey\n",
    "import Vpick, Vscan\n",
    "from IPython.display import HTML\n",
    "import NMO as NMO\n",
    "import Lab_util as lab_util"
   ]
  },
  {
   "cell_type": "markdown",
   "metadata": {},
   "source": [
    "---\n",
    "**Abstract**\n",
    "\n",
    "This lab is based on material from Chapters 3 and 4 of BEI. In the first portion you will be asked to compute Vnmo using a $(x^2, t^2)$ plot based on $(x, t)$ pairs you’ll pick from a CMP gather. In the second portion of the lab you will be given a velocity scan of the same CMP gather and asked to select the velocity function. In the final portion you will be given a multiple-contaminated CMP gather, and asked to correct it based on both the primary and multiple trend of the data.\n",
    "\n",
    "---\n"
   ]
  },
  {
   "cell_type": "markdown",
   "metadata": {},
   "source": [
    "<h2><center>PART 1: NORMAL MOVEOUT<h2/>"
   ]
  },
  {
   "cell_type": "markdown",
   "metadata": {},
   "source": [
    "### Introduction"
   ]
  },
  {
   "cell_type": "markdown",
   "metadata": {},
   "source": [
    "Chapter 3 of Jon's book *Basic Earth Imaging* (BEI) discusses the concept of **normal moveout (NMO) velocity**.\n",
    "It is closely related to the \"RMS velocity\" and so-called \"stacking velocity\".\n",
    "The basic notion is that in a horizontally layered earth, reflection travel-times from the flat layers approximately satisfy a hyperbolic move-out trajectory:\n",
    "$$\n",
    "t^2 \\; \\approx \\;  \\tau^2 + \\frac{h^2}{V^2(\\tau)} \\;, \n",
    "$$\n",
    "where $t$ is the two-way hyperbolic reflection travel-time, $\\tau$ is the two-way vertical travel-time to the reflector, $h$ is the source/receiver offset, and $V$ is the NMO velocity."
   ]
  },
  {
   "cell_type": "markdown",
   "metadata": {},
   "source": [
    "### Exercise"
   ]
  },
  {
   "cell_type": "markdown",
   "metadata": {},
   "source": [
    "You’ll be looking for the velocity that best describes the hyperbolic traveltime. $V_{nmo}$ is the short spread hyperbola approximation for the velocity. $V_{rms}$ is an approximation that uses all the offset information.\n",
    "In this section, you are given a CMP gather from which you must determine $V_{rms}$ for reflections with $t_0$ at 1s, 2s, and 3s. The water bottom reflection has $t_0$ around 0.25s. To determine $V_{rms}$ for each of the reflectors:\n",
    "- Toggle on 'Picking' mode and add a new picking using '+' button (to delete it use '-')\n",
    "- Pick each of the reflections  as a new event\n",
    "- Once you're done, type in the filename as a .npz file where you want to store the picking and press 'Save'\n",
    "- Plot these values in $(x^2, t^2)$\n",
    "- Perform a linear regression to obtain the value of $V_{RMS}$. You can do this however you want! Numpy has built in linear regression functions, so I have created an empty cell below where you could code your linear regression results. (Note: The slope of the line is the inverse of $V^2_{RMS}$ ).\n",
    "\n",
    "The velocities you determine are to be compared with the velocities you’ll pick in the next exercise."
   ]
  },
  {
   "cell_type": "code",
   "execution_count": 7,
   "metadata": {
    "scrolled": false
   },
   "outputs": [
    {
     "data": {
      "application/vnd.jupyter.widget-view+json": {
       "model_id": "543a30aafa854630a023c4639b9c143b",
       "version_major": 2,
       "version_minor": 0
      },
      "text/plain": [
       "Canvas(toolbar=Toolbar(toolitems=[('Home', 'Reset original view', 'home', 'home'), ('Back', 'Back to previous …"
      ]
     },
     "metadata": {},
     "output_type": "display_data"
    },
    {
     "data": {
      "application/vnd.jupyter.widget-view+json": {
       "model_id": "ceb146a3a62d438793a659f8750ac8ce",
       "version_major": 2,
       "version_minor": 0
      },
      "text/plain": [
       "HBox(children=(ToggleButton(value=False, description='Picking'), Dropdown(description='Events:', disabled=True…"
      ]
     },
     "metadata": {},
     "output_type": "display_data"
    }
   ],
   "source": [
    "#################################################################\n",
    "# No need to edit anything in this block\n",
    "#################################################################\n",
    "# this line reads in a dataset from an SEP formatted file.\n",
    "cmp_sepVec=genericIO.defaultIO.getVector(\"./cmp.HH\")\n",
    "\n",
    "# Create a Grey object, call its output() function which animates the image, and finally display the animation\n",
    "Grey.Grey(plt,cmp_sepVec,figsize=(5,5),aspect='2',title='CMP gather',picking=1).output()\n"
   ]
  },
  {
   "cell_type": "code",
   "execution_count": 5,
   "metadata": {},
   "outputs": [
    {
     "data": {
      "text/plain": [
       "array([0.33052777, 1.14091741, 1.99286551, 2.99026815])"
      ]
     },
     "execution_count": 5,
     "metadata": {},
     "output_type": "execute_result"
    }
   ],
   "source": [
    "#################################################################\n",
    "## If you choose to use python, code your linear regression here\n",
    "#################################################################\n",
    "filename = 'pick.npz'\n",
    "# load this file as dictionary. once you do, you can access each of the single picked events as file['Pick 1'], etc.\n",
    "picks = np.load(filename)\n",
    "picks['Pick 1'][:,:]\n",
    "# convert to (x^2,t^2) pairs\n",
    "\n",
    "# perform linear regression using hyperbolic move-out equation from above"
   ]
  },
  {
   "cell_type": "markdown",
   "metadata": {},
   "source": [
    "### Questions"
   ]
  },
  {
   "cell_type": "markdown",
   "metadata": {},
   "source": [
    "1. List the *RMS*-velocities you obtained at $t_0$ =1s, 2s, and 3s"
   ]
  },
  {
   "cell_type": "markdown",
   "metadata": {},
   "source": [
    "> **<tt>Your answer:</tt>**  Type answer here. "
   ]
  },
  {
   "cell_type": "markdown",
   "metadata": {},
   "source": [
    "<h2><center>PART 2: Velocity Analysis<h2/>"
   ]
  },
  {
   "cell_type": "markdown",
   "metadata": {},
   "source": [
    "### Introduction"
   ]
  },
  {
   "cell_type": "markdown",
   "metadata": {},
   "source": [
    "Chapter 4 of Jon’s book *Basic Earth Imaging* (BEI) discusses the concept of **NMO velocity analysis**. This is a method to estimate the “RMS” by finding the “NMO stacking velocity” which optimizes the CMP stack in some sense. As with the first part of the lab, the basic notion is that, in a horizontally layered earth, reflection travel-times from the flat layers approximately satisfy a hyperbolic move-out trajectory. In the first exercise you obtained the *RMS*-velocities in an “old-fashioned way”. Now you’ll do the same thing but with the help of velocity “scans”. The velocity scans in this lab display *semblance*, which is the normalized output-to-input energy ratio.\n",
    "\n",
    "- Execute the next cell to bring up your \"Velocity scan\" display. There are two panels displayed. The left panel is the original CMP gather that you will be NMO correcting.\n",
    "\n",
    "- The right panel is where you will be picking your velocity function. It has time (increasing downwards) as its vertical axis and velocity (increasing to the right) as its horizontal axis.\n",
    "\n",
    "- Remember to pick velocities for the reflections with $t_0$ at 1s, 2s, and 3s to compare with the values you obtained in Part I.\n",
    "\n",
    "- When you are happy with your velocity picking, save them to a .npz file by clicking the 'Save' button."
   ]
  },
  {
   "cell_type": "code",
   "execution_count": 6,
   "metadata": {
    "scrolled": true
   },
   "outputs": [
    {
     "data": {
      "application/vnd.jupyter.widget-view+json": {
       "model_id": "41e9d9e339fe4e40a1615a70c3d1742b",
       "version_major": 2,
       "version_minor": 0
      },
      "text/plain": [
       "Canvas(toolbar=Toolbar(toolitems=[('Home', 'Reset original view', 'home', 'home'), ('Back', 'Back to previous …"
      ]
     },
     "metadata": {},
     "output_type": "display_data"
    },
    {
     "data": {
      "application/vnd.jupyter.widget-view+json": {
       "model_id": "ab3c890a52ad4c0e9d3327da186c3629",
       "version_major": 2,
       "version_minor": 0
      },
      "text/plain": [
       "HBox(children=(ToggleButton(value=False, description='Picking'), Dropdown(description='Events:', disabled=True…"
      ]
     },
     "metadata": {},
     "output_type": "display_data"
    }
   ],
   "source": [
    "Vpick.Vpick(plt,cmp_sepVec,vmin=1.5, vmax=3, dv=0.05, figsize=(9,7),aspect='auto').output()"
   ]
  },
  {
   "cell_type": "markdown",
   "metadata": {},
   "source": [
    "The program in  the following cell reads the .npz file you just created and performs normal moveout on the original CMP gather, plotting the flattened gather when it is done."
   ]
  },
  {
   "cell_type": "code",
   "execution_count": 6,
   "metadata": {
    "scrolled": true
   },
   "outputs": [
    {
     "ename": "NameError",
     "evalue": "name 'cmp_sepVec' is not defined",
     "output_type": "error",
     "traceback": [
      "\u001b[0;31m---------------------------------------------------------------------------\u001b[0m",
      "\u001b[0;31mNameError\u001b[0m                                 Traceback (most recent call last)",
      "\u001b[0;32m<ipython-input-6-e047a0743546>\u001b[0m in \u001b[0;36m<module>\u001b[0;34m\u001b[0m\n\u001b[1;32m      4\u001b[0m \u001b[0;34m\u001b[0m\u001b[0m\n\u001b[1;32m      5\u001b[0m \u001b[0;31m# perform nmo\u001b[0m\u001b[0;34m\u001b[0m\u001b[0;34m\u001b[0m\u001b[0;34m\u001b[0m\u001b[0m\n\u001b[0;32m----> 6\u001b[0;31m \u001b[0mnmo_cmp\u001b[0m \u001b[0;34m=\u001b[0m \u001b[0mcmp_sepVec\u001b[0m\u001b[0;34m.\u001b[0m\u001b[0mclone\u001b[0m\u001b[0;34m(\u001b[0m\u001b[0;34m)\u001b[0m\u001b[0;34m\u001b[0m\u001b[0;34m\u001b[0m\u001b[0m\n\u001b[0m\u001b[1;32m      7\u001b[0m \u001b[0mnmo\u001b[0m \u001b[0;34m=\u001b[0m \u001b[0mVscan\u001b[0m\u001b[0;34m.\u001b[0m\u001b[0mNMO\u001b[0m\u001b[0;34m(\u001b[0m\u001b[0mnmo_cmp\u001b[0m\u001b[0;34m,\u001b[0m\u001b[0mcmp_sepVec\u001b[0m\u001b[0;34m,\u001b[0m\u001b[0mvrms\u001b[0m\u001b[0;34m)\u001b[0m\u001b[0;34m\u001b[0m\u001b[0;34m\u001b[0m\u001b[0m\n\u001b[1;32m      8\u001b[0m \u001b[0mnmo\u001b[0m\u001b[0;34m.\u001b[0m\u001b[0madjoint\u001b[0m\u001b[0;34m(\u001b[0m\u001b[0;32mFalse\u001b[0m\u001b[0;34m,\u001b[0m\u001b[0mnmo_cmp\u001b[0m\u001b[0;34m,\u001b[0m\u001b[0mcmp_sepVec\u001b[0m\u001b[0;34m)\u001b[0m\u001b[0;34m\u001b[0m\u001b[0;34m\u001b[0m\u001b[0m\n",
      "\u001b[0;31mNameError\u001b[0m: name 'cmp_sepVec' is not defined"
     ]
    }
   ],
   "source": [
    "# convert .txt velocity picks file to sepVectors.\n",
    "picks_1_filename='pick.npz'\n",
    "vrms = np.load(picks_1_filename)['Pick 1']\n",
    "\n",
    "# perform nmo\n",
    "nmo_cmp = cmp_sepVec.clone()\n",
    "nmo = Vscan.NMO(nmo_cmp,cmp_sepVec,vrms)\n",
    "nmo.adjoint(False,nmo_cmp,cmp_sepVec)\n",
    "\n",
    "# plot the results\n",
    "Grey.Grey(plt,nmo_cmp,figsize=(9,7),aspect=2,title='Flattened CMP gathers').output() "
   ]
  },
  {
   "cell_type": "markdown",
   "metadata": {},
   "source": [
    "### Interval velocity\n",
    "Convert the picked RMS velocities into interval velocities using the Dix formula from section 3.4 of BEI and then plot the curve as a function of time (use tmax=4s) using standard matplotlib.\n",
    "\n",
    "Dix Equation:\n",
    "$$\n",
    "v_i^2 = \\frac{\\tau_i V_i^2\\; -\\; \\tau_{i-1} V_{i-1}^2}{\\tau_i\\; -\\; \\tau_{i-1}}\n",
    "$$\n",
    "where $v_i$ is the interval velocity of layer $i$, $\\tau$ is the time in each layer, and $V$\n",
    "is the RMS velocity."
   ]
  },
  {
   "cell_type": "code",
   "execution_count": null,
   "metadata": {},
   "outputs": [],
   "source": [
    "import matplotlib.pyplot as plt\n",
    "\n",
    "# convert vrms to vint\n",
    "\n",
    "# plot the result as a function of time\n",
    "# plt.plot()"
   ]
  },
  {
   "cell_type": "markdown",
   "metadata": {},
   "source": [
    "### Questions"
   ]
  },
  {
   "cell_type": "markdown",
   "metadata": {},
   "source": [
    "For some of the questions below you have to write equations. You will need to learn how to enter 'math mode' in markdown. Double click on the hyperbolic move-out equation above to see how I did it."
   ]
  },
  {
   "cell_type": "markdown",
   "metadata": {},
   "source": [
    "1. How does a reflection event behave in the NMO corrected gather if the chosen velocity was too high/too low?"
   ]
  },
  {
   "cell_type": "markdown",
   "metadata": {},
   "source": [
    "> **<tt>Your answer:</tt>**  Type answer here. "
   ]
  },
  {
   "cell_type": "markdown",
   "metadata": {},
   "source": [
    "2. After making your RMS velocity picks, you have to check the interval velocity estimates. Dramatic changes in interval velocity are unreasonable considering seismic reflection methodology. Why?"
   ]
  },
  {
   "cell_type": "markdown",
   "metadata": {},
   "source": [
    "> **<tt>Your answer:</tt>**  Type answer here. "
   ]
  },
  {
   "cell_type": "markdown",
   "metadata": {},
   "source": [
    "3. If you look at the NMO corrected gather, you notice that the wavelet broadens with the increase of offset for the top events. If you look at lowest event, the wavelet doesn’t change too much. Why?"
   ]
  },
  {
   "cell_type": "markdown",
   "metadata": {},
   "source": [
    "> **<tt>Your answer:</tt>**  Type answer here. "
   ]
  },
  {
   "cell_type": "markdown",
   "metadata": {},
   "source": [
    "4. Compare and contrast your experience in determining the velocities by selecting x, t pairs as in Part I versus picking a good stacking velocity curve with the aid of a velocity scan (this portion)."
   ]
  },
  {
   "cell_type": "markdown",
   "metadata": {},
   "source": [
    "> **<tt>Your answer:</tt>**  Type answer here. "
   ]
  },
  {
   "cell_type": "markdown",
   "metadata": {},
   "source": [
    "5. RMS vs interval velocity\n",
    "\n",
    "    - How accurate do you think your estimates of RMS velocity are (qualitatively) ?\n",
    "\n",
    "    > **<tt>Your answer:</tt>**  Type answer here. \n",
    "\n",
    "    - How about your estimates of interval velocity ?\n",
    "\n",
    "    > **<tt>Your answer:</tt>**  Type answer here. "
   ]
  },
  {
   "cell_type": "markdown",
   "metadata": {},
   "source": [
    "6. Assume you want to fit a parametric NMO velocity function to your scan of the form:\n",
    "$$\n",
    "V(\\tau) ≈ V_0 + \\alpha\\tau^\\beta .\n",
    "$$\n",
    "For your velocity scan, what are the approximate values of V0, α and β? You can do explicit curve fitting using your favorite method/software if you want, but you are not required to."
   ]
  },
  {
   "cell_type": "markdown",
   "metadata": {},
   "source": [
    "> **<tt>Your answer:</tt>**  Type answer here. "
   ]
  },
  {
   "cell_type": "markdown",
   "metadata": {},
   "source": [
    "Use the Dix relationship to convert the parametric $V(\\tau)$ expression above into a parametric *interval velocity* function $v_i$. Check your general result by considering the special case of constant velocity. There are two choices of $\\alpha$ and $\\beta$ you can make – do both. Show all derivations in full and with clarity.\n",
    "\n",
    "Dix Equation:\n",
    "$$\n",
    "v_i^2 = \\frac{\\tau_i V_i^2\\; -\\; \\tau_{i-1} V_{i-1}^2}{\\tau_i\\; -\\; \\tau_{i-1}}\n",
    "$$\n",
    "where $v_i$ is the interval velocity of layer $i$, $\\tau$ is the time in each layer, and $V$\n",
    "is the RMS velocity."
   ]
  },
  {
   "cell_type": "markdown",
   "metadata": {},
   "source": [
    "> **<tt>Your answer:</tt>**  Type answer here. "
   ]
  },
  {
   "cell_type": "markdown",
   "metadata": {},
   "source": [
    "7. You may have noticed some artifacts in the velocity scanning process. These are caused by CMP data truncation at (a) near offsets and (b) far offsets. Consider a CMP gather which contains only an impulse at (a) zero offset, and (b) the farthest offset. Write down a mathematical expression for the trajectory each impulse will make in velocity space. Use the hyperbolic travel-time equation. How different these cruves would be?"
   ]
  },
  {
   "cell_type": "markdown",
   "metadata": {},
   "source": [
    "> **<tt>Your answer:</tt>**  Type answer here. "
   ]
  },
  {
   "cell_type": "markdown",
   "metadata": {},
   "source": [
    "<h2><center>PART 3: MULTIPLE INFESTED DATA<h2/>"
   ]
  },
  {
   "cell_type": "markdown",
   "metadata": {},
   "source": [
    "### Exercise"
   ]
  },
  {
   "cell_type": "markdown",
   "metadata": {},
   "source": [
    "This portion of the lab demonstrates a large problem in seismic imaging, namely the existence and strength of multiples. Often, as in this example, the strength of the multiples is so much greater than that of the primaries that primary energy is overwhelmed. This makes picking a suitable velocity function, difficult, and severely hinders any automated picking approach.\n"
   ]
  },
  {
   "cell_type": "code",
   "execution_count": 4,
   "metadata": {},
   "outputs": [
    {
     "data": {
      "application/vnd.jupyter.widget-view+json": {
       "model_id": "a5124e785cbe463993e3fa40a76a9f82",
       "version_major": 2,
       "version_minor": 0
      },
      "text/plain": [
       "Canvas(toolbar=Toolbar(toolitems=[('Home', 'Reset original view', 'home', 'home'), ('Back', 'Back to previous …"
      ]
     },
     "metadata": {},
     "output_type": "display_data"
    }
   ],
   "source": [
    "#read in the multiple infested CMP gather\n",
    "cmp_mult_sepVec=genericIO.defaultIO.getVector(\"./cmp.mult.HH\")\n",
    "# Create a Grey object, call its output() function which animates the image, and finally display the animation\n",
    "Grey.Grey(plt,cmp_mult_sepVec,figsize=(10,10),aspect=2,title='CMP gather full of mutiples').output() "
   ]
  },
  {
   "cell_type": "markdown",
   "metadata": {},
   "source": [
    "Execute the next cell for a new CMP gather and its semblance panel. This gather is heavily infested with multiples.\n",
    "\n",
    "- Select a velocity function that flattens the primary reflections. You will find this a much more difficult task, the CMP gather is infested with multiples while the semblance scan energy is concentrated at the multiple energy velocity. \n",
    "- Select a velocity function that flattens the multiples (as a new picking).\n",
    "- Again, save these picks."
   ]
  },
  {
   "cell_type": "code",
   "execution_count": 7,
   "metadata": {},
   "outputs": [
    {
     "data": {
      "application/vnd.jupyter.widget-view+json": {
       "model_id": "e683960939e64e508b8bf1d1bb6ce431",
       "version_major": 2,
       "version_minor": 0
      },
      "text/plain": [
       "Canvas(toolbar=Toolbar(toolitems=[('Home', 'Reset original view', 'home', 'home'), ('Back', 'Back to previous …"
      ]
     },
     "metadata": {},
     "output_type": "display_data"
    },
    {
     "data": {
      "application/vnd.jupyter.widget-view+json": {
       "model_id": "e42c2371cf34491e9bed2f2e6ebbc012",
       "version_major": 2,
       "version_minor": 0
      },
      "text/plain": [
       "HBox(children=(ToggleButton(value=False, description='Picking'), Dropdown(description='Events:', disabled=True…"
      ]
     },
     "metadata": {},
     "output_type": "display_data"
    }
   ],
   "source": [
    "Vpick.Vpick(plt,cmp_mult_sepVec,vmin=1.2, vmax=4, dv=0.1, figsize=(9,7),aspect='auto').output()"
   ]
  },
  {
   "cell_type": "markdown",
   "metadata": {},
   "source": [
    "Perform NMO with velocity picks of the primary reflections."
   ]
  },
  {
   "cell_type": "code",
   "execution_count": null,
   "metadata": {},
   "outputs": [],
   "source": [
    "picks_2_filename='FILENAME'\n",
    "vrms = np.load(picks_2_filename)['Pick 1']\n",
    "\n",
    "# perform nmo\n",
    "nmo_prim = cmp_mult_sepVec.clone()\n",
    "nmo = Vscan.NMO(nmo_prim,cmp_mult_sepVec,vrms)\n",
    "nmo.adjoint(False,nmo_prim,cmp_mult_sepVec)\n",
    "\n",
    "# Grey.Graph(plt,vel_combined_sepVector,figsize=(5,8),transp='y',yreverse='y',grid='y',label1='tau',label2='vrms',title='RMS Velocity',legend=['vrms','vint']).output()\n",
    "Grey.Grey(plt,nmo_prim,figsize=(10,10),aspect=2,title='CMP gathers: Flattened with best vel picks possible',label1='tau (sec)',label2='offset (km)').output() "
   ]
  },
  {
   "cell_type": "markdown",
   "metadata": {},
   "source": [
    "Perform NMO with velocity picks for the multiples."
   ]
  },
  {
   "cell_type": "code",
   "execution_count": null,
   "metadata": {},
   "outputs": [],
   "source": [
    "picks_3_filename='FILENAME'\n",
    "# vrms = np.load(picks_3_filename)['Pick 2']\n",
    "\n",
    "# perform nmo\n",
    "nmo_mult = cmp_mult_sepVec.clone()\n",
    "nmo = Vscan.NMO(nmo_mult,cmp_mult_sepVec,vrms)\n",
    "nmo.adjoint(False,nmo_mult,cmp_mult_sepVec)\n",
    "\n",
    "# Grey.Graph(plt,vel_combined_sepVector,figsize=(5,8),transp='y',yreverse='y',grid='y',label1='tau',label2='vrms',title='RMS Velocity',legend=['vrms','vint']).output()\n",
    "Grey.Grey(plt,nmo_mult,figsize=(10,10),aspect=2,title='CMP gathers: Flattened with vel picks on multiples',label1='tau (sec)',label2='offset (km)').output() "
   ]
  },
  {
   "cell_type": "markdown",
   "metadata": {},
   "source": [
    "### Questions"
   ]
  },
  {
   "cell_type": "markdown",
   "metadata": {},
   "source": [
    "1. How could either\n",
    "    - the prominence of the multiple energy be decreased, or\n",
    "    - a criteria be designed that would pick the primaries rather than the multiples?\n",
    "\n",
    "(Don’t forget that multiples are not limited to the sea floor bottom and RMS velocity can decrease as a function of time)"
   ]
  },
  {
   "cell_type": "markdown",
   "metadata": {},
   "source": [
    "> **<tt>Your answer:</tt>**  Type answer here. "
   ]
  }
 ],
 "metadata": {
  "kernelspec": {
   "display_name": "Python 3",
   "language": "python",
   "name": "python3"
  },
  "language_info": {
   "codemirror_mode": {
    "name": "ipython",
    "version": 3
   },
   "file_extension": ".py",
   "mimetype": "text/x-python",
   "name": "python",
   "nbconvert_exporter": "python",
   "pygments_lexer": "ipython3",
   "version": "3.12.0"
  }
 },
 "nbformat": 4,
 "nbformat_minor": 2
}
